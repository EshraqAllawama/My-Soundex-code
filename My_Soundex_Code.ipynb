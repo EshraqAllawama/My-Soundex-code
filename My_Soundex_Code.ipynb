{
  "nbformat": 4,
  "nbformat_minor": 0,
  "metadata": {
    "colab": {
      "provenance": [],
      "authorship_tag": "ABX9TyPFk73wdb6hEGscAedNQDWT",
      "include_colab_link": true
    },
    "kernelspec": {
      "name": "python3",
      "display_name": "Python 3"
    },
    "language_info": {
      "name": "python"
    }
  },
  "cells": [
    {
      "cell_type": "markdown",
      "metadata": {
        "id": "view-in-github",
        "colab_type": "text"
      },
      "source": [
        "<a href=\"https://colab.research.google.com/github/EshraqAllawama/My-Soundex-code/blob/main/My_Soundex_Code.ipynb\" target=\"_parent\"><img src=\"https://colab.research.google.com/assets/colab-badge.svg\" alt=\"Open In Colab\"/></a>"
      ]
    },
    {
      "cell_type": "code",
      "execution_count": null,
      "metadata": {
        "id": "6hX4lD2Gg7aA"
      },
      "outputs": [],
      "source": [
        "def remove_(l):\n",
        " o = []\n",
        " for i in range(len(l)):\n",
        "    n = 0\n",
        "    for j in range(i+1,len(l)):\n",
        "      if l[i] == l[j]:\n",
        "       n+=1\n",
        "    if n == 0:\n",
        "      o.append(l[i])\n",
        " o.remove(0)\n",
        " return o\n",
        "\n",
        "def f_1(l):\n",
        "  m = l\n",
        "  if len(l) == 3:\n",
        "     m = l\n",
        "  elif len(l)>3:\n",
        "     p = len(l)-3\n",
        "     for i in range(p):\n",
        "         l.pop()\n",
        "     m = l\n",
        "  else :\n",
        "     m.append(0)\n",
        "  return m\n",
        "\n",
        "def f_2(m,t_0):\n",
        "  y =\"\"\n",
        "  for c in m:\n",
        "      y += str(c)\n",
        "\n",
        "  if t_0 == t_0.upper():\n",
        "    print(t_0+y)\n",
        "  else:\n",
        "    print(t_0.upper()+y)\n",
        "\n",
        "def solv(t_0,t_1):\n",
        "  l = []\n",
        "  chr = {\n",
        "    0:[\"A\",\"E\",\"I\",\"O\",\"Y\",\"H\",\"W\",\"U\"],\n",
        "    1:[\"P\",\"B\",\"F\",\"V\"],\n",
        "    2:[\"C\",\"G\",\"K\",\"J\",\"Q\",\"X\",\"S\",\"Z\"],\n",
        "    3:[\"D\",\"T\"],\n",
        "    4:[\"L\"],\n",
        "    5:[\"M\",\"N\"],\n",
        "    6:[\"R\"]\n",
        "        }\n",
        "  for i in t_1:\n",
        "     for j,k in chr.items():\n",
        "         if i in k or i.upper() in k:\n",
        "            l.append(j)\n",
        "  l = remove_(l)\n",
        "  m = f_1(l)\n",
        "  f_2(m,t_0)\n",
        "def Sdx(word):\n",
        " t_0 = word[0]\n",
        " t_1 = word[1:len(word)]\n",
        " solv(t_0,t_1)\n",
        "\n"
      ]
    },
    {
      "cell_type": "code",
      "source": [
        "Sdx(input())"
      ],
      "metadata": {
        "colab": {
          "base_uri": "https://localhost:8080/"
        },
        "id": "6ltS-nyvg_w0",
        "outputId": "f69c49e1-318d-48e5-ad68-1fd15c1a4d10"
      },
      "execution_count": null,
      "outputs": [
        {
          "output_type": "stream",
          "name": "stdout",
          "text": [
            "Eshraq\n",
            "E620\n"
          ]
        }
      ]
    }
  ]
}